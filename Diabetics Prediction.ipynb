{
 "cells": [
  {
   "cell_type": "markdown",
   "id": "c9f0757c-1029-442f-b5d5-4e1b5ea6093e",
   "metadata": {},
   "source": [
    "## Step 1: Import Necessary Libraries\n",
    "\n",
    "### Explanation:\n",
    "We begin by importing libraries for:\n",
    "\n",
    "- **Data manipulation and analysis:** pandas, numpy\n",
    "- **Data preprocessing:** train_test_split (splitting data), StandardScaler (scaling features)\n",
    "- **Modeling:** Algorithms such as Logistic Regression, Random Forest, and SVM\n",
    "- **Evaluation:** Metrics like accuracy, classification report, and confusion matrix\n",
    "- **Saving models:** pickle for saving trained models and scalers.\n"
   ]
  },
  {
   "cell_type": "code",
   "execution_count": 1,
   "id": "17b38507-f53c-4b91-9a06-2f9e0559cd47",
   "metadata": {},
   "outputs": [],
   "source": [
    "# Import necessary libraries\n",
    "import pandas as pd\n",
    "import numpy as np\n",
    "from sklearn.model_selection import train_test_split\n",
    "from sklearn.preprocessing import StandardScaler\n",
    "from sklearn.linear_model import LogisticRegression\n",
    "from sklearn.ensemble import RandomForestClassifier\n",
    "from sklearn.svm import SVC\n",
    "from sklearn.metrics import accuracy_score, classification_report, confusion_matrix\n",
    "import pickle\n"
   ]
  },
  {
   "cell_type": "markdown",
   "id": "3c48f61f-979f-46ba-8c6a-573205ccb8b2",
   "metadata": {},
   "source": [
    "## Step 2: Load the Dataset\n",
    "\n",
    "### Explanation:\n",
    "Load the Pima Indians Diabetes Dataset using pandas. The dataset typically includes features like glucose level, blood pressure, age, etc., and a target variable indicating diabetes presence (1 for diabetic, 0 for non-diabetic).\n",
    "\n",
    "- Verify the dataset structure using `.head()` and `.info()`.\n",
    "- Check for missing values.\n"
   ]
  },
  {
   "cell_type": "code",
   "execution_count": 4,
   "id": "dc84c8d4-e04a-42ae-983f-51dd9b489bd5",
   "metadata": {},
   "outputs": [
    {
     "name": "stdout",
     "output_type": "stream",
     "text": [
      "First few rows of the dataset:\n",
      "   Unnamed: 0  Pregnancies  Glucose  BloodPressure  SkinThickness  Insulin  \\\n",
      "0           0            6      148             72             35        0   \n",
      "1           1            1       85             66             29        0   \n",
      "2           2            8      183             64              0        0   \n",
      "3           3            1       89             66             23       94   \n",
      "4           4            0      137             40             35      168   \n",
      "\n",
      "    BMI  DiabetesPedigreeFunction  Age  Outcome  \n",
      "0  33.6                     0.627   50        1  \n",
      "1  26.6                     0.351   31        0  \n",
      "2  23.3                     0.672   32        1  \n",
      "3  28.1                     0.167   21        0  \n",
      "4  43.1                     2.288   33        1  \n",
      "\n",
      "Dataset Information:\n",
      "<class 'pandas.core.frame.DataFrame'>\n",
      "RangeIndex: 768 entries, 0 to 767\n",
      "Data columns (total 10 columns):\n",
      " #   Column                    Non-Null Count  Dtype  \n",
      "---  ------                    --------------  -----  \n",
      " 0   Unnamed: 0                768 non-null    int64  \n",
      " 1   Pregnancies               768 non-null    int64  \n",
      " 2   Glucose                   768 non-null    int64  \n",
      " 3   BloodPressure             768 non-null    int64  \n",
      " 4   SkinThickness             768 non-null    int64  \n",
      " 5   Insulin                   768 non-null    int64  \n",
      " 6   BMI                       768 non-null    float64\n",
      " 7   DiabetesPedigreeFunction  768 non-null    float64\n",
      " 8   Age                       768 non-null    int64  \n",
      " 9   Outcome                   768 non-null    int64  \n",
      "dtypes: float64(2), int64(8)\n",
      "memory usage: 60.1 KB\n",
      "None\n",
      "\n",
      "Check for missing values:\n",
      "Unnamed: 0                  0\n",
      "Pregnancies                 0\n",
      "Glucose                     0\n",
      "BloodPressure               0\n",
      "SkinThickness               0\n",
      "Insulin                     0\n",
      "BMI                         0\n",
      "DiabetesPedigreeFunction    0\n",
      "Age                         0\n",
      "Outcome                     0\n",
      "dtype: int64\n"
     ]
    }
   ],
   "source": [
    "# Step 1: Load the dataset\n",
    "dataset = pd.read_csv('diabetics.csv')\n",
    "\n",
    "# Step 2: Understand the data\n",
    "print(\"First few rows of the dataset:\")\n",
    "print(dataset.head())\n",
    "\n",
    "print(\"\\nDataset Information:\")\n",
    "print(dataset.info())\n",
    "\n",
    "print(\"\\nCheck for missing values:\")\n",
    "print(dataset.isnull().sum())\n"
   ]
  },
  {
   "cell_type": "code",
   "execution_count": 7,
   "id": "e5f93779-d9e9-437c-92d8-7794376a5b2d",
   "metadata": {},
   "outputs": [
    {
     "data": {
      "text/html": [
       "<div>\n",
       "<style scoped>\n",
       "    .dataframe tbody tr th:only-of-type {\n",
       "        vertical-align: middle;\n",
       "    }\n",
       "\n",
       "    .dataframe tbody tr th {\n",
       "        vertical-align: top;\n",
       "    }\n",
       "\n",
       "    .dataframe thead th {\n",
       "        text-align: right;\n",
       "    }\n",
       "</style>\n",
       "<table border=\"1\" class=\"dataframe\">\n",
       "  <thead>\n",
       "    <tr style=\"text-align: right;\">\n",
       "      <th></th>\n",
       "      <th>Unnamed: 0</th>\n",
       "      <th>Pregnancies</th>\n",
       "      <th>Glucose</th>\n",
       "      <th>BloodPressure</th>\n",
       "      <th>SkinThickness</th>\n",
       "      <th>Insulin</th>\n",
       "      <th>BMI</th>\n",
       "      <th>DiabetesPedigreeFunction</th>\n",
       "      <th>Age</th>\n",
       "      <th>Outcome</th>\n",
       "    </tr>\n",
       "  </thead>\n",
       "  <tbody>\n",
       "    <tr>\n",
       "      <th>0</th>\n",
       "      <td>0</td>\n",
       "      <td>6</td>\n",
       "      <td>148</td>\n",
       "      <td>72</td>\n",
       "      <td>35</td>\n",
       "      <td>0</td>\n",
       "      <td>33.6</td>\n",
       "      <td>0.627</td>\n",
       "      <td>50</td>\n",
       "      <td>1</td>\n",
       "    </tr>\n",
       "    <tr>\n",
       "      <th>1</th>\n",
       "      <td>1</td>\n",
       "      <td>1</td>\n",
       "      <td>85</td>\n",
       "      <td>66</td>\n",
       "      <td>29</td>\n",
       "      <td>0</td>\n",
       "      <td>26.6</td>\n",
       "      <td>0.351</td>\n",
       "      <td>31</td>\n",
       "      <td>0</td>\n",
       "    </tr>\n",
       "    <tr>\n",
       "      <th>2</th>\n",
       "      <td>2</td>\n",
       "      <td>8</td>\n",
       "      <td>183</td>\n",
       "      <td>64</td>\n",
       "      <td>0</td>\n",
       "      <td>0</td>\n",
       "      <td>23.3</td>\n",
       "      <td>0.672</td>\n",
       "      <td>32</td>\n",
       "      <td>1</td>\n",
       "    </tr>\n",
       "    <tr>\n",
       "      <th>3</th>\n",
       "      <td>3</td>\n",
       "      <td>1</td>\n",
       "      <td>89</td>\n",
       "      <td>66</td>\n",
       "      <td>23</td>\n",
       "      <td>94</td>\n",
       "      <td>28.1</td>\n",
       "      <td>0.167</td>\n",
       "      <td>21</td>\n",
       "      <td>0</td>\n",
       "    </tr>\n",
       "    <tr>\n",
       "      <th>4</th>\n",
       "      <td>4</td>\n",
       "      <td>0</td>\n",
       "      <td>137</td>\n",
       "      <td>40</td>\n",
       "      <td>35</td>\n",
       "      <td>168</td>\n",
       "      <td>43.1</td>\n",
       "      <td>2.288</td>\n",
       "      <td>33</td>\n",
       "      <td>1</td>\n",
       "    </tr>\n",
       "    <tr>\n",
       "      <th>...</th>\n",
       "      <td>...</td>\n",
       "      <td>...</td>\n",
       "      <td>...</td>\n",
       "      <td>...</td>\n",
       "      <td>...</td>\n",
       "      <td>...</td>\n",
       "      <td>...</td>\n",
       "      <td>...</td>\n",
       "      <td>...</td>\n",
       "      <td>...</td>\n",
       "    </tr>\n",
       "    <tr>\n",
       "      <th>763</th>\n",
       "      <td>763</td>\n",
       "      <td>10</td>\n",
       "      <td>101</td>\n",
       "      <td>76</td>\n",
       "      <td>48</td>\n",
       "      <td>180</td>\n",
       "      <td>32.9</td>\n",
       "      <td>0.171</td>\n",
       "      <td>63</td>\n",
       "      <td>0</td>\n",
       "    </tr>\n",
       "    <tr>\n",
       "      <th>764</th>\n",
       "      <td>764</td>\n",
       "      <td>2</td>\n",
       "      <td>122</td>\n",
       "      <td>70</td>\n",
       "      <td>27</td>\n",
       "      <td>0</td>\n",
       "      <td>36.8</td>\n",
       "      <td>0.340</td>\n",
       "      <td>27</td>\n",
       "      <td>0</td>\n",
       "    </tr>\n",
       "    <tr>\n",
       "      <th>765</th>\n",
       "      <td>765</td>\n",
       "      <td>5</td>\n",
       "      <td>121</td>\n",
       "      <td>72</td>\n",
       "      <td>23</td>\n",
       "      <td>112</td>\n",
       "      <td>26.2</td>\n",
       "      <td>0.245</td>\n",
       "      <td>30</td>\n",
       "      <td>0</td>\n",
       "    </tr>\n",
       "    <tr>\n",
       "      <th>766</th>\n",
       "      <td>766</td>\n",
       "      <td>1</td>\n",
       "      <td>126</td>\n",
       "      <td>60</td>\n",
       "      <td>0</td>\n",
       "      <td>0</td>\n",
       "      <td>30.1</td>\n",
       "      <td>0.349</td>\n",
       "      <td>47</td>\n",
       "      <td>1</td>\n",
       "    </tr>\n",
       "    <tr>\n",
       "      <th>767</th>\n",
       "      <td>767</td>\n",
       "      <td>1</td>\n",
       "      <td>93</td>\n",
       "      <td>70</td>\n",
       "      <td>31</td>\n",
       "      <td>0</td>\n",
       "      <td>30.4</td>\n",
       "      <td>0.315</td>\n",
       "      <td>23</td>\n",
       "      <td>0</td>\n",
       "    </tr>\n",
       "  </tbody>\n",
       "</table>\n",
       "<p>768 rows × 10 columns</p>\n",
       "</div>"
      ],
      "text/plain": [
       "     Unnamed: 0  Pregnancies  Glucose  BloodPressure  SkinThickness  Insulin  \\\n",
       "0             0            6      148             72             35        0   \n",
       "1             1            1       85             66             29        0   \n",
       "2             2            8      183             64              0        0   \n",
       "3             3            1       89             66             23       94   \n",
       "4             4            0      137             40             35      168   \n",
       "..          ...          ...      ...            ...            ...      ...   \n",
       "763         763           10      101             76             48      180   \n",
       "764         764            2      122             70             27        0   \n",
       "765         765            5      121             72             23      112   \n",
       "766         766            1      126             60              0        0   \n",
       "767         767            1       93             70             31        0   \n",
       "\n",
       "      BMI  DiabetesPedigreeFunction  Age  Outcome  \n",
       "0    33.6                     0.627   50        1  \n",
       "1    26.6                     0.351   31        0  \n",
       "2    23.3                     0.672   32        1  \n",
       "3    28.1                     0.167   21        0  \n",
       "4    43.1                     2.288   33        1  \n",
       "..    ...                       ...  ...      ...  \n",
       "763  32.9                     0.171   63        0  \n",
       "764  36.8                     0.340   27        0  \n",
       "765  26.2                     0.245   30        0  \n",
       "766  30.1                     0.349   47        1  \n",
       "767  30.4                     0.315   23        0  \n",
       "\n",
       "[768 rows x 10 columns]"
      ]
     },
     "execution_count": 7,
     "metadata": {},
     "output_type": "execute_result"
    }
   ],
   "source": [
    "dataset"
   ]
  },
  {
   "cell_type": "markdown",
   "id": "8d0dafed-50b0-470b-8273-29e388959071",
   "metadata": {},
   "source": [
    "## Step 3: Select Features and Target Variables\n",
    "\n",
    "### Explanation:\n",
    "Separate the dataset into:\n",
    "- **Features (X):** All columns except the target.\n",
    "- **Target (y):** The last column indicating diabetes status.\n",
    "\n",
    "This is essential for training machine learning models.\n"
   ]
  },
  {
   "cell_type": "code",
   "execution_count": 5,
   "id": "cc07e97a-2dfe-48fb-92ce-03b52558a875",
   "metadata": {},
   "outputs": [],
   "source": [
    "# Step 3: Feature and target selection\n",
    "\n",
    "X = dataset.iloc[:, :-1].values  # Features (independent variables)\n",
    "y = dataset.iloc[:, -1].values   # Target (dependent variable)\n"
   ]
  },
  {
   "cell_type": "markdown",
   "id": "234c3c6e-fca6-49f5-9673-934e07e3001b",
   "metadata": {},
   "source": [
    "## Step 4: Split the Dataset\n",
    "\n",
    "### Explanation:\n",
    "- Split the data into training (80%) and testing (20%) subsets using `train_test_split`.\n",
    "- This ensures that we evaluate the model on unseen data to avoid overfitting.\n"
   ]
  },
  {
   "cell_type": "code",
   "execution_count": 6,
   "id": "6f0232d0-9e08-4203-b321-ae82a8f50c6a",
   "metadata": {},
   "outputs": [],
   "source": [
    "# Step 4: Split the dataset\n",
    "\n",
    "X_train, X_test, y_train, y_test = train_test_split(X, y, test_size=0.2, random_state=42)\n"
   ]
  },
  {
   "cell_type": "markdown",
   "id": "ca5abcbf-96b8-4ab2-b57a-4c9bb7130174",
   "metadata": {},
   "source": [
    "## Step 5: Scale the Features\n",
    "\n",
    "### Explanation:\n",
    "- Features are scaled using `StandardScaler` to normalize their range.\n",
    "- This step is crucial for machine learning models (like SVM) that are sensitive to feature magnitudes.\n"
   ]
  },
  {
   "cell_type": "code",
   "execution_count": 8,
   "id": "bb6442ce-5b00-49ba-92e3-05509281267f",
   "metadata": {},
   "outputs": [],
   "source": [
    "# Step 5: Feature scaling\n",
    "\n",
    "scaler = StandardScaler()\n",
    "X_train = scaler.fit_transform(X_train)\n",
    "X_test = scaler.transform(X_test)\n"
   ]
  },
  {
   "cell_type": "markdown",
   "id": "2cc7b970-2fb6-4364-b652-c46afe36e81b",
   "metadata": {},
   "source": [
    "## Step 6: Train Machine Learning Models\n",
    "\n",
    "### Explanation:\n",
    "Train three machine learning models:\n",
    "- **Logistic Regression:** A linear model for binary classification.\n",
    "- **Random Forest:** An ensemble model using decision trees.\n",
    "- **Support Vector Machine (SVM):** Effective for small, high-dimensional datasets.\n",
    "\n",
    "Each model is trained on the training data and predictions are made on the testing data.\n"
   ]
  },
  {
   "cell_type": "code",
   "execution_count": 9,
   "id": "d2b9d890-d52a-49e7-b7e7-38823830d82e",
   "metadata": {},
   "outputs": [],
   "source": [
    "# Step 6: Train models\n",
    "\n",
    "models = {\n",
    "    \"Logistic Regression\": LogisticRegression(),\n",
    "    \"Random Forest\": RandomForestClassifier(n_estimators=100, random_state=42),\n",
    "    \"Support Vector Machine\": SVC(kernel='rbf', random_state=42)\n",
    "}\n"
   ]
  },
  {
   "cell_type": "markdown",
   "id": "c9a2b8d8-4308-41e6-8982-0589f56c23ca",
   "metadata": {},
   "source": [
    "## Step 7: Evaluate Models\n",
    "\n",
    "### Explanation:\n",
    "Evaluate each model using:\n",
    "- **Accuracy:** Percentage of correct predictions.\n",
    "- **Classification Report:** Includes precision, recall, F1-score.\n",
    "- **Confusion Matrix:** Details of true positives, false positives, etc.\n",
    "- Store the accuracy for each model.\n"
   ]
  },
  {
   "cell_type": "code",
   "execution_count": 10,
   "id": "4aa58314-1fc0-423c-ad91-5c331953b50d",
   "metadata": {},
   "outputs": [
    {
     "name": "stdout",
     "output_type": "stream",
     "text": [
      "\n",
      "Training Logistic Regression...\n",
      "Accuracy for Logistic Regression: 0.7532467532467533\n",
      "Classification Report:\n",
      "              precision    recall  f1-score   support\n",
      "\n",
      "           0       0.81      0.80      0.81        99\n",
      "           1       0.65      0.67      0.66        55\n",
      "\n",
      "    accuracy                           0.75       154\n",
      "   macro avg       0.73      0.74      0.73       154\n",
      "weighted avg       0.76      0.75      0.75       154\n",
      "\n",
      "\n",
      "Training Random Forest...\n",
      "Accuracy for Random Forest: 0.7532467532467533\n",
      "Classification Report:\n",
      "              precision    recall  f1-score   support\n",
      "\n",
      "           0       0.82      0.79      0.80        99\n",
      "           1       0.64      0.69      0.67        55\n",
      "\n",
      "    accuracy                           0.75       154\n",
      "   macro avg       0.73      0.74      0.74       154\n",
      "weighted avg       0.76      0.75      0.76       154\n",
      "\n",
      "\n",
      "Training Support Vector Machine...\n",
      "Accuracy for Support Vector Machine: 0.7597402597402597\n",
      "Classification Report:\n",
      "              precision    recall  f1-score   support\n",
      "\n",
      "           0       0.78      0.87      0.82        99\n",
      "           1       0.70      0.56      0.63        55\n",
      "\n",
      "    accuracy                           0.76       154\n",
      "   macro avg       0.74      0.72      0.72       154\n",
      "weighted avg       0.75      0.76      0.75       154\n",
      "\n"
     ]
    }
   ],
   "source": [
    "results = {}\n",
    "for model_name, model in models.items():\n",
    "    print(f\"\\nTraining {model_name}...\")\n",
    "    model.fit(X_train, y_train)\n",
    "    y_pred = model.predict(X_test)\n",
    "    acc = accuracy_score(y_test, y_pred)\n",
    "    print(f\"Accuracy for {model_name}: {acc}\")\n",
    "    print(\"Classification Report:\")\n",
    "    print(classification_report(y_test, y_pred))\n",
    "    results[model_name] = acc\n"
   ]
  },
  {
   "cell_type": "markdown",
   "id": "f55bd68d-a7d9-4e9e-b24f-d5056bdf0f39",
   "metadata": {},
   "source": [
    "## Step 8: Select the Best Model\n",
    "\n",
    "### Explanation:\n",
    "Identify the model with the highest accuracy.\n"
   ]
  },
  {
   "cell_type": "code",
   "execution_count": 11,
   "id": "9ddc5b53-5c48-4763-8207-4479dddb3497",
   "metadata": {},
   "outputs": [
    {
     "name": "stdout",
     "output_type": "stream",
     "text": [
      "\n",
      "Best model based on accuracy: Support Vector Machine with accuracy 0.7597402597402597\n"
     ]
    }
   ],
   "source": [
    "# Step 8: Choose the best model\n",
    "\n",
    "best_model_name = max(results, key=results.get)\n",
    "print(f\"\\nBest model based on accuracy: {best_model_name} with accuracy {results[best_model_name]}\")\n"
   ]
  },
  {
   "cell_type": "markdown",
   "id": "21151006-7d51-4b9d-9cb7-8eba1aadcb6e",
   "metadata": {},
   "source": [
    "## Step 9: Save the Model and Scaler\n",
    "\n",
    "### Explanation:\n",
    "Save the best model and the scaler using `pickle`. These files will be used for deployment to make predictions on new data.\n"
   ]
  },
  {
   "cell_type": "code",
   "execution_count": 13,
   "id": "d536233b-f55f-4fbb-bcb8-478857ce74fc",
   "metadata": {},
   "outputs": [
    {
     "name": "stdout",
     "output_type": "stream",
     "text": [
      "\n",
      "Best model saved as 'diabetes_model.pkl'.\n",
      "Scaler saved as 'scaler.pkl'.\n"
     ]
    }
   ],
   "source": [
    "# Step 9: Save the best model\n",
    "\n",
    "best_model = models[best_model_name]\n",
    "with open('diabetes_model.pkl', 'wb') as f:\n",
    "    pickle.dump(best_model, f)\n",
    "print(\"\\nBest model saved as 'diabetes_model.pkl'.\")\n",
    "\n",
    "# Save the scaler for deployment\n",
    "with open('scaler.pkl', 'wb') as f:\n",
    "    pickle.dump(scaler, f)\n",
    "print(\"Scaler saved as 'scaler.pkl'.\")\n"
   ]
  },
  {
   "cell_type": "markdown",
   "id": "2cb01bd3-8e7b-4818-9db4-aeca6a87f993",
   "metadata": {},
   "source": [
    "## Step 10: Test Deployment\n",
    "\n",
    "### Explanation:\n",
    "Simulate deployment by loading the saved model and scaler, then make predictions on new data.\n"
   ]
  },
  {
   "cell_type": "code",
   "execution_count": 15,
   "id": "5a77c904-4ddc-44e7-8ca1-66208309614d",
   "metadata": {},
   "outputs": [
    {
     "name": "stdout",
     "output_type": "stream",
     "text": [
      "\n",
      "Test Input Prediction:\n",
      "Non-Diabetic\n"
     ]
    }
   ],
   "source": [
    "# Step 10: Deployment test\n",
    "# Load the saved model and scaler for predictions\n",
    "with open('diabetes_model.pkl', 'rb') as f:\n",
    "    loaded_model = pickle.load(f)\n",
    "\n",
    "with open('scaler.pkl', 'rb') as f:\n",
    "    loaded_scaler = pickle.load(f)\n",
    "\n",
    "# Example test input\n",
    "\n",
    "test_input = np.array([[6, 148, 72, 35, 0, 33.6, 0.627, 50,1]])  \n",
    "scaled_input = loaded_scaler.transform(test_input)\n",
    "prediction = loaded_model.predict(scaled_input)\n",
    "\n",
    "print(\"\\nTest Input Prediction:\")\n",
    "print(\"Diabetic\" if prediction[0] == 1 else \"Non-Diabetic\")\n"
   ]
  },
  {
   "cell_type": "code",
   "execution_count": null,
   "id": "d5d04cad-718f-476e-b9de-ac65cf6d90fb",
   "metadata": {},
   "outputs": [],
   "source": []
  }
 ],
 "metadata": {
  "kernelspec": {
   "display_name": "Python 3 (ipykernel)",
   "language": "python",
   "name": "python3"
  },
  "language_info": {
   "codemirror_mode": {
    "name": "ipython",
    "version": 3
   },
   "file_extension": ".py",
   "mimetype": "text/x-python",
   "name": "python",
   "nbconvert_exporter": "python",
   "pygments_lexer": "ipython3",
   "version": "3.10.15"
  }
 },
 "nbformat": 4,
 "nbformat_minor": 5
}
